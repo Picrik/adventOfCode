{
 "cells": [
  {
   "cell_type": "markdown",
   "metadata": {},
   "source": [
    "Objectif :\n",
    "\n",
    "PART 1 : Compute the score"
   ]
  },
  {
   "cell_type": "markdown",
   "metadata": {},
   "source": [
    "# Import data"
   ]
  },
  {
   "cell_type": "code",
   "execution_count": 10,
   "metadata": {},
   "outputs": [
    {
     "name": "stdout",
     "output_type": "stream",
     "text": [
      "14264\n"
     ]
    }
   ],
   "source": [
    "values = {\"A X\":4, # Rock - Rock / score : 1 + 3 = 4\n",
    "          \"A Y\":8, # Rock - Paper / score : 2 + 6 = 8\n",
    "          \"A Z\":3, # Rock - Scissors / score : 3 + 0 = 3\n",
    "          \"B X\":1, # Paper - Rock / score : 1 + 0 = 1\n",
    "          \"B Y\":5, # Paper - Paper / score : 2 + 3 = 5\n",
    "          \"B Z\":9, # Paper - Scissors / score : 3 + 6 = 9\n",
    "          \"C X\":7, # Scissors - Rock / score : 1 + 6 = 7\n",
    "          \"C Y\":2, # Scissors - Paper / score : 2 + 0 = 2\n",
    "          \"C Z\":6} # Scissors - Scissors / score : 3 + 3 = 6\n",
    "\n",
    "with open(\"Inputs/day2.txt\") as f:\n",
    "    lines = [x.replace(\"\\n\", \"\") for x in f.readlines()] #for removing the terminal \\n\n",
    "    \n",
    "Score = 0\n",
    "for line in lines:\n",
    "    Score += values[line] \n",
    "\n",
    "print(Score)"
   ]
  },
  {
   "cell_type": "markdown",
   "metadata": {},
   "source": [
    "# Part 2\n",
    "\n",
    "Tricky elves ;)\n",
    "\n",
    "X means you need to lose, Y means you need to end the round in a draw, and Z means you need to win."
   ]
  },
  {
   "cell_type": "code",
   "execution_count": 11,
   "metadata": {},
   "outputs": [
    {
     "name": "stdout",
     "output_type": "stream",
     "text": [
      "12382\n"
     ]
    }
   ],
   "source": [
    "values = {\"A X\":3, # Lose Rock - Scissors / score : 3 + 0 = 3\n",
    "          \"A Y\":4, # Draw Rock - Rock / score : 1 + 3 = 4\n",
    "          \"A Z\":8, # Win Rock - Paper / score : 2 + 6 = 8\n",
    "          \"B X\":1, # Lose Paper - Rock / score : 1 + 0 = 1\n",
    "          \"B Y\":5, # Draw Paper - Paper / score : 2 + 3 = 5\n",
    "          \"B Z\":9, # Win  Paper - Scissors / score : 3 + 6 = 9\n",
    "          \"C X\":2, # Lose Scissors - Paper  / score : 2 + 0 = 2\n",
    "          \"C Y\":6, # Draw Scissors - Scissors / score : 3 + 3 = 6\n",
    "          \"C Z\":7} # Win  Scissors - Rock / score : 1 + 6 = 7\n",
    "\n",
    "with open(\"Inputs/day2.txt\") as f:\n",
    "    lines = [x.replace(\"\\n\", \"\") for x in f.readlines()] #for removing the terminal \\n\n",
    "    \n",
    "Score = 0\n",
    "for line in lines:\n",
    "    Score += values[line] \n",
    "\n",
    "print(Score)"
   ]
  },
  {
   "cell_type": "code",
   "execution_count": null,
   "metadata": {},
   "outputs": [],
   "source": []
  }
 ],
 "metadata": {
  "kernelspec": {
   "display_name": "Python 3",
   "language": "python",
   "name": "python3"
  },
  "language_info": {
   "codemirror_mode": {
    "name": "ipython",
    "version": 3
   },
   "file_extension": ".py",
   "mimetype": "text/x-python",
   "name": "python",
   "nbconvert_exporter": "python",
   "pygments_lexer": "ipython3",
   "version": "3.8.5"
  }
 },
 "nbformat": 4,
 "nbformat_minor": 4
}
