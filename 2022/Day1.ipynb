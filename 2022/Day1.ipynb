{
 "cells": [
  {
   "cell_type": "markdown",
   "metadata": {},
   "source": [
    "Objectif :\n",
    "\n",
    "PART 1 : Find the elf that have the more calories in his bag, and how much."
   ]
  },
  {
   "cell_type": "markdown",
   "metadata": {},
   "source": [
    "# Import data"
   ]
  },
  {
   "cell_type": "code",
   "execution_count": 1,
   "metadata": {},
   "outputs": [],
   "source": [
    "with open(\"Inputs/day1.txt\") as f:\n",
    "    lines = [x.replace(\"\\n\", \"\") for x in f.readlines()] #for removing the terminal \\n\n",
    "    \n",
    "elves = {}\n",
    "inc= 0\n",
    "calories = 0\n",
    "for item in lines:\n",
    "    if item != \"\":\n",
    "        calories = calories + int(item)\n",
    "    else:\n",
    "        inc += 1\n",
    "        elves[\"elf_\" + str(inc)] = calories\n",
    "        calories = 0"
   ]
  },
  {
   "cell_type": "code",
   "execution_count": 2,
   "metadata": {},
   "outputs": [
    {
     "name": "stdout",
     "output_type": "stream",
     "text": [
      "Elf with the maximum calories: elf_223\n",
      "Maximum value: 72017\n"
     ]
    }
   ],
   "source": [
    "fin_max = max(elves, key=elves.get)\n",
    "print(\"Elf with the maximum calories:\",fin_max)\n",
    "print(\"Maximum value:\",elves[fin_max])"
   ]
  },
  {
   "cell_type": "markdown",
   "metadata": {},
   "source": [
    "PART 2 - Find the amount carried by the top 3"
   ]
  },
  {
   "cell_type": "code",
   "execution_count": 3,
   "metadata": {},
   "outputs": [
    {
     "name": "stdout",
     "output_type": "stream",
     "text": [
      "The top 3 carried 212520 calories\n"
     ]
    }
   ],
   "source": [
    "from operator import itemgetter\n",
    "N = 3\n",
    "top3_cal = 0\n",
    "for elf in dict(sorted(elves.items(), key = itemgetter(1), reverse = True)[:N]):\n",
    "    top3_cal = top3_cal + elves[elf]\n",
    "    \n",
    "print(\"The top 3 carried {} calories\".format(top3_cal))"
   ]
  },
  {
   "cell_type": "code",
   "execution_count": null,
   "metadata": {},
   "outputs": [],
   "source": []
  }
 ],
 "metadata": {
  "kernelspec": {
   "display_name": "Python 3",
   "language": "python",
   "name": "python3"
  },
  "language_info": {
   "codemirror_mode": {
    "name": "ipython",
    "version": 3
   },
   "file_extension": ".py",
   "mimetype": "text/x-python",
   "name": "python",
   "nbconvert_exporter": "python",
   "pygments_lexer": "ipython3",
   "version": "3.8.5"
  }
 },
 "nbformat": 4,
 "nbformat_minor": 4
}
